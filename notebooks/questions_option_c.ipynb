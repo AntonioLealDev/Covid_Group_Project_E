{
 "metadata": {
  "language_info": {
   "codemirror_mode": {
    "name": "ipython",
    "version": 3
   },
   "file_extension": ".py",
   "mimetype": "text/x-python",
   "name": "python",
   "nbconvert_exporter": "python",
   "pygments_lexer": "ipython3",
   "version": "3.8.3-final"
  },
  "orig_nbformat": 2,
  "kernelspec": {
   "name": "python38364bit72b7e1e7c27c457c8a05dd1f551b514d",
   "display_name": "Python 3.8.3 64-bit",
   "language": "python"
  }
 },
 "nbformat": 4,
 "nbformat_minor": 2,
 "cells": [
  {
   "source": [
    "# EDA COVID PROJECT"
   ],
   "cell_type": "markdown",
   "metadata": {}
  },
  {
   "source": [
    "### Import libraries"
   ],
   "cell_type": "markdown",
   "metadata": {}
  },
  {
   "cell_type": "code",
   "execution_count": 1,
   "metadata": {},
   "outputs": [],
   "source": [
    "import pandas as pd\n",
    "import numpy as np\n",
    "import sys\n",
    "import os\n",
    "import import_ipynb"
   ]
  },
  {
   "cell_type": "code",
   "execution_count": 2,
   "metadata": {},
   "outputs": [
    {
     "output_type": "stream",
     "name": "stdout",
     "text": [
      "importing Jupyter notebook from first_visualitation.ipynb\n"
     ]
    }
   ],
   "source": [
    "import first_visualitation as fv"
   ]
  },
  {
   "cell_type": "code",
   "execution_count": 3,
   "metadata": {},
   "outputs": [
    {
     "output_type": "stream",
     "name": "stdout",
     "text": [
      "importing Jupyter notebook from second_cleaning_data.ipynb\n"
     ]
    }
   ],
   "source": [
    "import second_cleaning_data as scd"
   ]
  },
  {
   "source": [
    "### Import modules"
   ],
   "cell_type": "markdown",
   "metadata": {}
  },
  {
   "cell_type": "code",
   "execution_count": 4,
   "metadata": {},
   "outputs": [],
   "source": [
    "\"\"\"\n",
    "Insert your file's path\n",
    "\"\"\"\n",
    "\n",
    "sys.path.append(os.path.dirname(os.path.dirname('C:\\\\Users\\\\usuario\\\\Desktop\\\\alumno_data_sciece\\\\data_science\\\\Trabajo_COVID_grupal\\\\notebooks\\\\questions_option_c')))"
   ]
  },
  {
   "cell_type": "code",
   "execution_count": 5,
   "metadata": {},
   "outputs": [],
   "source": [
    "from src.utils import folders_tb as ft\n",
    "from src.utils import mining_data_tb as mdt"
   ]
  },
  {
   "source": [
    "### Objetcs"
   ],
   "cell_type": "markdown",
   "metadata": {}
  },
  {
   "cell_type": "code",
   "execution_count": 6,
   "metadata": {},
   "outputs": [],
   "source": [
    "variable_creator = ft.Folders()\n",
    "variable_miner = mdt.Miner()"
   ]
  },
  {
   "source": [
    "# Question a"
   ],
   "cell_type": "markdown",
   "metadata": {}
  },
  {
   "source": [
    "### 1. Total infected = Total cases"
   ],
   "cell_type": "markdown",
   "metadata": {}
  },
  {
   "cell_type": "code",
   "execution_count": 8,
   "metadata": {},
   "outputs": [
    {
     "output_type": "execute_result",
     "data": {
      "text/plain": [
       "                    max  Position\n",
       "location                         \n",
       "Poland        1443804.0        14\n",
       "South Africa  1356716.0        15\n",
       "Indonesia      927380.0        20\n",
       "Ukraine       1206125.0        17\n",
       "Spain         2370742.0         9"
      ],
      "text/html": "<div>\n<style scoped>\n    .dataframe tbody tr th:only-of-type {\n        vertical-align: middle;\n    }\n\n    .dataframe tbody tr th {\n        vertical-align: top;\n    }\n\n    .dataframe thead th {\n        text-align: right;\n    }\n</style>\n<table border=\"1\" class=\"dataframe\">\n  <thead>\n    <tr style=\"text-align: right;\">\n      <th></th>\n      <th>max</th>\n      <th>Position</th>\n    </tr>\n    <tr>\n      <th>location</th>\n      <th></th>\n      <th></th>\n    </tr>\n  </thead>\n  <tbody>\n    <tr>\n      <th>Poland</th>\n      <td>1443804.0</td>\n      <td>14</td>\n    </tr>\n    <tr>\n      <th>South Africa</th>\n      <td>1356716.0</td>\n      <td>15</td>\n    </tr>\n    <tr>\n      <th>Indonesia</th>\n      <td>927380.0</td>\n      <td>20</td>\n    </tr>\n    <tr>\n      <th>Ukraine</th>\n      <td>1206125.0</td>\n      <td>17</td>\n    </tr>\n    <tr>\n      <th>Spain</th>\n      <td>2370742.0</td>\n      <td>9</td>\n    </tr>\n  </tbody>\n</table>\n</div>"
     },
     "metadata": {},
     "execution_count": 8
    }
   ],
   "source": [
    "our_countries_total_cases = variable_miner.total_infected(dataset1=fv.first_visualitation)\n",
    "our_countries_total_cases "
   ]
  },
  {
   "source": [
    "### 2. Total deaths"
   ],
   "cell_type": "markdown",
   "metadata": {}
  },
  {
   "cell_type": "code",
   "execution_count": 9,
   "metadata": {},
   "outputs": [
    {
     "output_type": "execute_result",
     "data": {
      "text/plain": [
       "                  max  Position\n",
       "location                       \n",
       "Poland        33698.0        16\n",
       "South Africa  38288.0        15\n",
       "Indonesia     26590.0        17\n",
       "Ukraine       22037.0        19\n",
       "Spain         54173.0        10"
      ],
      "text/html": "<div>\n<style scoped>\n    .dataframe tbody tr th:only-of-type {\n        vertical-align: middle;\n    }\n\n    .dataframe tbody tr th {\n        vertical-align: top;\n    }\n\n    .dataframe thead th {\n        text-align: right;\n    }\n</style>\n<table border=\"1\" class=\"dataframe\">\n  <thead>\n    <tr style=\"text-align: right;\">\n      <th></th>\n      <th>max</th>\n      <th>Position</th>\n    </tr>\n    <tr>\n      <th>location</th>\n      <th></th>\n      <th></th>\n    </tr>\n  </thead>\n  <tbody>\n    <tr>\n      <th>Poland</th>\n      <td>33698.0</td>\n      <td>16</td>\n    </tr>\n    <tr>\n      <th>South Africa</th>\n      <td>38288.0</td>\n      <td>15</td>\n    </tr>\n    <tr>\n      <th>Indonesia</th>\n      <td>26590.0</td>\n      <td>17</td>\n    </tr>\n    <tr>\n      <th>Ukraine</th>\n      <td>22037.0</td>\n      <td>19</td>\n    </tr>\n    <tr>\n      <th>Spain</th>\n      <td>54173.0</td>\n      <td>10</td>\n    </tr>\n  </tbody>\n</table>\n</div>"
     },
     "metadata": {},
     "execution_count": 9
    }
   ],
   "source": [
    "our_countries_total_deaths = variable_miner.total_deaths(dataset1=fv.first_visualitation)\n",
    "our_countries_total_deaths"
   ]
  },
  {
   "source": [
    "### 3. Life expectancy"
   ],
   "cell_type": "markdown",
   "metadata": {}
  },
  {
   "cell_type": "code",
   "execution_count": 10,
   "metadata": {},
   "outputs": [
    {
     "output_type": "execute_result",
     "data": {
      "text/plain": [
       "                max  Position\n",
       "location                     \n",
       "Poland        78.73        44\n",
       "South Africa  64.13       159\n",
       "Indonesia     71.72       121\n",
       "Ukraine       72.06       117\n",
       "Spain         83.56         7"
      ],
      "text/html": "<div>\n<style scoped>\n    .dataframe tbody tr th:only-of-type {\n        vertical-align: middle;\n    }\n\n    .dataframe tbody tr th {\n        vertical-align: top;\n    }\n\n    .dataframe thead th {\n        text-align: right;\n    }\n</style>\n<table border=\"1\" class=\"dataframe\">\n  <thead>\n    <tr style=\"text-align: right;\">\n      <th></th>\n      <th>max</th>\n      <th>Position</th>\n    </tr>\n    <tr>\n      <th>location</th>\n      <th></th>\n      <th></th>\n    </tr>\n  </thead>\n  <tbody>\n    <tr>\n      <th>Poland</th>\n      <td>78.73</td>\n      <td>44</td>\n    </tr>\n    <tr>\n      <th>South Africa</th>\n      <td>64.13</td>\n      <td>159</td>\n    </tr>\n    <tr>\n      <th>Indonesia</th>\n      <td>71.72</td>\n      <td>121</td>\n    </tr>\n    <tr>\n      <th>Ukraine</th>\n      <td>72.06</td>\n      <td>117</td>\n    </tr>\n    <tr>\n      <th>Spain</th>\n      <td>83.56</td>\n      <td>7</td>\n    </tr>\n  </tbody>\n</table>\n</div>"
     },
     "metadata": {},
     "execution_count": 10
    }
   ],
   "source": [
    "our_countries_life_expectancy = variable_miner.life_expectancy(dataset1=fv.first_visualitation)\n",
    "our_countries_life_expectancy"
   ]
  }
 ]
}