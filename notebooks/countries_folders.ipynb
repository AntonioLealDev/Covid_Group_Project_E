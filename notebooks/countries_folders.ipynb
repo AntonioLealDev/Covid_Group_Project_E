{
 "metadata": {
  "language_info": {
   "codemirror_mode": {
    "name": "ipython",
    "version": 3
   },
   "file_extension": ".py",
   "mimetype": "text/x-python",
   "name": "python",
   "nbconvert_exporter": "python",
   "pygments_lexer": "ipython3",
   "version": "3.9.0-final"
  },
  "orig_nbformat": 2,
  "kernelspec": {
   "name": "python3",
   "display_name": "Python 3.9.0 64-bit",
   "metadata": {
    "interpreter": {
     "hash": "7812ea015bdcee6f23a998adcdd2ef97c151c0c241b7b7070987d9313e41299d"
    }
   }
  }
 },
 "nbformat": 4,
 "nbformat_minor": 2,
 "cells": [
  {
   "cell_type": "code",
   "execution_count": 2,
   "metadata": {},
   "outputs": [],
   "source": [
    "import pandas as pd\n",
    "import os"
   ]
  },
  {
   "cell_type": "code",
   "execution_count": 5,
   "metadata": {},
   "outputs": [],
   "source": [
    "first_visualitation = pd.read_csv('https://covid.ourworldindata.org/data/owid-covid-data.csv')"
   ]
  },
  {
   "cell_type": "code",
   "execution_count": 26,
   "metadata": {},
   "outputs": [],
   "source": [
    "def list_extractor(df, col):\n",
    "    \"\"\"\n",
    "    @Alex\n",
    "    Function that will extract a list with the items in a column given in the argument, without repited values\n",
    "        Input:\n",
    "            df      : Dataframe with the data\n",
    "            col     : Column of interest\n",
    "        Output:\n",
    "            l_col   : List with the unique references of the desired column\n",
    "    \"\"\"\n",
    "    l_col = df[col].tolist()\n",
    "    l_col = list(dict.fromkeys(l_col))\n",
    "    return l_col\n",
    "\n",
    "def folder_creator(df,col,fold_list):\n",
    "    \"\"\"\n",
    "    @Alex\n",
    "    Function that creates folders from a given list, and fill the folders with .csv files with the raw information from a dataframe filtered by the items in the list\n",
    "        Inputs:\n",
    "            df          : Dataframe to filter and extract information\n",
    "            col         : Column name for filtering\n",
    "            fold_list   : List with the items to extract from df and to create the directories\n",
    "    \"\"\"\n",
    "    for item in fold_list:\n",
    "        camino = os.path.abspath(os.path.realpath('../data/Countries/'+item))\n",
    "        if  not os.path.isdir(camino):\n",
    "            try:\n",
    "                os.makedirs(camino)\n",
    "            except:\n",
    "                print(\"####### ERROR CREATING '% s' FOLDER ########\" % item)\n",
    "                continue\n",
    "        \n",
    "        camino = os.path.join(camino + \"/\" + item + \".csv\")\n",
    "        try:\n",
    "            aux_df = df[df[col] == item].reset_index()\n",
    "            aux_df.to_csv(camino, header= True)\n",
    "        except:\n",
    "            print(\"####### ERROR CREATING '% s' FILE ########\" % item)\n",
    "\n",
    "    print(\"Directories created and filled with files\")"
   ]
  },
  {
   "cell_type": "code",
   "execution_count": 27,
   "metadata": {},
   "outputs": [
    {
     "output_type": "stream",
     "name": "stdout",
     "text": [
      "Directories created and filled with files\n"
     ]
    }
   ],
   "source": [
    "list_countries = list_extractor(first_visualitation,\"location\")\n",
    "folder_creator(first_visualitation,\"location\",list_countries)"
   ]
  },
  {
   "cell_type": "code",
   "execution_count": null,
   "metadata": {},
   "outputs": [],
   "source": []
  }
 ]
}