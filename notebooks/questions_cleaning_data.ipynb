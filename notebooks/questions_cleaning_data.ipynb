{
 "metadata": {
  "language_info": {
   "codemirror_mode": {
    "name": "ipython",
    "version": 3
   },
   "file_extension": ".py",
   "mimetype": "text/x-python",
   "name": "python",
   "nbconvert_exporter": "python",
   "pygments_lexer": "ipython3",
   "version": "3.8.3-final"
  },
  "orig_nbformat": 2,
  "kernelspec": {
   "name": "python38364bit72b7e1e7c27c457c8a05dd1f551b514d",
   "display_name": "Python 3.8.3 64-bit",
   "language": "python"
  }
 },
 "nbformat": 4,
 "nbformat_minor": 2,
 "cells": [
  {
   "source": [
    "# EDA COVID PROJECT"
   ],
   "cell_type": "markdown",
   "metadata": {}
  },
  {
   "source": [
    "### Import libraries"
   ],
   "cell_type": "markdown",
   "metadata": {}
  },
  {
   "cell_type": "code",
   "execution_count": 1,
   "metadata": {},
   "outputs": [],
   "source": [
    "import pandas as pd\n",
    "import numpy as np\n",
    "import sys\n",
    "import os\n",
    "import import_ipynb"
   ]
  },
  {
   "cell_type": "code",
   "execution_count": 2,
   "metadata": {},
   "outputs": [
    {
     "output_type": "stream",
     "name": "stdout",
     "text": [
      "importing Jupyter notebook from second_cleaning_data.ipynb\n"
     ]
    }
   ],
   "source": [
    "import second_cleaning_data as scd"
   ]
  },
  {
   "source": [
    "### Import modules"
   ],
   "cell_type": "markdown",
   "metadata": {}
  },
  {
   "cell_type": "code",
   "execution_count": 3,
   "metadata": {},
   "outputs": [],
   "source": [
    "\"\"\"\n",
    "Insert your file's path\n",
    "\"\"\"\n",
    "\n",
    "sys.path.append(os.path.dirname(os.path.dirname('C:\\\\Users\\\\usuario\\\\Desktop\\\\alumno_data_sciece\\\\data_science\\\\Trabajo_COVID_grupal\\\\notebooks\\\\questions_cleaning_data')))"
   ]
  },
  {
   "cell_type": "code",
   "execution_count": 4,
   "metadata": {},
   "outputs": [],
   "source": [
    "from src.utils import folders_tb as ft\n",
    "from src.utils import mining_data_tb as mdt"
   ]
  },
  {
   "source": [
    "### Objetcs"
   ],
   "cell_type": "markdown",
   "metadata": {}
  },
  {
   "cell_type": "code",
   "execution_count": 5,
   "metadata": {},
   "outputs": [],
   "source": [
    "variable_creator = ft.Folders()\n",
    "variable_miner = mdt.Miner()"
   ]
  },
  {
   "source": [
    "## Clean data"
   ],
   "cell_type": "markdown",
   "metadata": {}
  },
  {
   "cell_type": "code",
   "execution_count": 7,
   "metadata": {},
   "outputs": [],
   "source": [
    "# df poland grouped by 10 days and month\n",
    "df_month_mean_poland, df_month_median_poland, df_10_days_mean_poland, df_10_days_median_poland = variable_miner.groupedby_month_and_10_days(scd.df_poland_masked) \n",
    "\n",
    "# df south africa grouped by 10 days and month\n",
    "df_month_mean_south_africa, df_month_median_south_africa, df_10_days_mean_south_africa, df_10_days_median_south_africa = variable_miner.groupedby_month_and_10_days(scd.df_south_africa_masked)\n",
    "\n",
    "# df indonesia grouped by 10 days and month\n",
    "df_month_mean_indonesia, df_month_median_indonesia, df_10_days_mean_indonesia, df_10_days_median_indonesia = variable_miner.groupedby_month_and_10_days(scd.df_indonesia_masked)\n",
    "\n",
    "# df ukraine grouped by 10 days and month\n",
    "df_month_mean_ukraine, df_month_median_ukraine, df_10_days_mean_ukraine, df_10_days_median_ukraine = variable_miner.groupedby_month_and_10_days(scd.df_ukraine_masked)\n",
    "\n",
    "# df spain grouped by 10 days and month\n",
    "df_month_mean_spain, df_month_median_spain, df_10_days_mean_spain, df_10_days_median_spain = variable_miner.groupedby_month_and_10_days(scd.df_spain_masked)"
   ]
  }
 ]
}