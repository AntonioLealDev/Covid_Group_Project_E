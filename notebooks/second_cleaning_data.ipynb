{
 "metadata": {
  "language_info": {
   "codemirror_mode": {
    "name": "ipython",
    "version": 3
   },
   "file_extension": ".py",
   "mimetype": "text/x-python",
   "name": "python",
   "nbconvert_exporter": "python",
   "pygments_lexer": "ipython3",
   "version": "3.8.3-final"
  },
  "orig_nbformat": 2,
  "kernelspec": {
   "name": "python38364bit72b7e1e7c27c457c8a05dd1f551b514d",
   "display_name": "Python 3.8.3 64-bit",
   "language": "python"
  }
 },
 "nbformat": 4,
 "nbformat_minor": 2,
 "cells": [
  {
   "source": [
    "# EDA COVID PROJECT"
   ],
   "cell_type": "markdown",
   "metadata": {}
  },
  {
   "source": [
    "### Import libraries"
   ],
   "cell_type": "markdown",
   "metadata": {}
  },
  {
   "cell_type": "code",
   "execution_count": 2,
   "metadata": {},
   "outputs": [],
   "source": [
    "import pandas as pd\n",
    "import numpy as np\n",
    "import sys\n",
    "import os"
   ]
  },
  {
   "source": [
    "### Import modules"
   ],
   "cell_type": "markdown",
   "metadata": {}
  },
  {
   "cell_type": "code",
   "execution_count": 3,
   "metadata": {},
   "outputs": [],
   "source": [
    "\"\"\"\n",
    "Insert your file's path\n",
    "\"\"\"\n",
    "\n",
    "sys.path.append(os.path.dirname(os.path.dirname('C:\\\\Users\\\\usuario\\\\Desktop\\\\alumno_data_sciece\\\\data_science\\\\Trabajo_COVID_grupal\\\\notebooks\\\\second_cleaning_data')))"
   ]
  },
  {
   "cell_type": "code",
   "execution_count": 4,
   "metadata": {},
   "outputs": [],
   "source": [
    "from src.utils import folders_tb as ft\n",
    "from src.utils import mining_data_tb as mdt"
   ]
  },
  {
   "source": [
    "### Objetcs"
   ],
   "cell_type": "markdown",
   "metadata": {}
  },
  {
   "cell_type": "code",
   "execution_count": 5,
   "metadata": {},
   "outputs": [],
   "source": [
    "variable_creator = ft.Folders()\n",
    "variable_miner = mdt.Miner()"
   ]
  },
  {
   "source": [
    "## Get and clean data"
   ],
   "cell_type": "markdown",
   "metadata": {}
  },
  {
   "source": [
    "### First steps: get the data, organise it and create a dataframe with the information and a pivot table"
   ],
   "cell_type": "markdown",
   "metadata": {}
  },
  {
   "cell_type": "code",
   "execution_count": 6,
   "metadata": {},
   "outputs": [],
   "source": [
    "####################################################################"
   ]
  },
  {
   "cell_type": "code",
   "execution_count": 7,
   "metadata": {},
   "outputs": [],
   "source": [
    "# Assign the df to a first variable called first_visualitation\n",
    "\n",
    "first_visualitation = variable_creator.open_csv('https://covid.ourworldindata.org/data/owid-covid-data.csv')\n",
    "\n",
    "# Clean the dataframe in order to have just the asked countries\n",
    "\n",
    "df_required_countries = variable_miner.chosen_countries(first_visualitation,'location', 'Poland', 'South Africa', 'Ukraine', 'Indonesia', 'Spain')\n",
    "\n",
    "# Turn the date column (string) into datetime.\n",
    "\n",
    "df_required_countries = variable_miner.column_to_datetime(df_required_countries, 'date')\n",
    "\n",
    "# Pivot table with date and countries as index (evolution per date)\n",
    "\n",
    "date_location_pivot_table = variable_miner.pivot_table_date_location(df_required_countries,'date', 'location')\n",
    "\n",
    "# Better visualitation of the dataframe having the countries as index\n",
    "\n",
    "df_required_countries = variable_miner.set_index_1(df_required_countries, 'location')"
   ]
  },
  {
   "cell_type": "code",
   "execution_count": 8,
   "metadata": {},
   "outputs": [],
   "source": [
    "####################################################################"
   ]
  },
  {
   "source": [
    "### Next steps: divide the main dataframe into smaller and more practical dataframes"
   ],
   "cell_type": "markdown",
   "metadata": {}
  },
  {
   "cell_type": "code",
   "execution_count": 9,
   "metadata": {},
   "outputs": [],
   "source": [
    "# df droping the constant values columns \n",
    "\n",
    "df_no_constant_1 = variable_miner.no_constant_df(df_required_countries,'Poland','South Africa','Indonesia','Ukraine','Spain')\n",
    "df_no_constant = variable_miner.set_index_1(df_no_constant_1, 'location')"
   ]
  },
  {
   "cell_type": "code",
   "execution_count": 10,
   "metadata": {},
   "outputs": [],
   "source": [
    "# df droping \"... per...\" columns\n",
    "\n",
    "df_no_per = variable_miner.drop_per_columns(df_required_countries)"
   ]
  },
  {
   "cell_type": "code",
   "execution_count": 11,
   "metadata": {},
   "outputs": [],
   "source": [
    "# df droping the constant values columns and \"... per...\" columns\n",
    "\n",
    "df_no_constant_no_per_1 = variable_miner.no_constant_df(df_no_per,'Poland','South Africa','Indonesia','Ukraine','Spain')\n",
    "df_no_constant_no_per = variable_miner.set_index_1(df_no_constant_no_per_1, 'location')"
   ]
  },
  {
   "source": [
    "### Masking dfs to drop negative values "
   ],
   "cell_type": "markdown",
   "metadata": {}
  },
  {
   "cell_type": "code",
   "execution_count": 12,
   "metadata": {},
   "outputs": [],
   "source": [
    "# masking dfs\n",
    "\n",
    "# all columns masked\n",
    "\n",
    "df_required_countries_masked = variable_miner.neg_to_nan_complete(df_required_countries)\n",
    "\n",
    "# no constants masked\n",
    "\n",
    "df_no_constant_masked = variable_miner.neg_to_nan_complete(df_no_constant)\n",
    "\n",
    "# no \"per\" masked\n",
    "\n",
    "df_no_per_masked = variable_miner.neg_to_nan_complete(df_no_per)\n",
    "\n",
    "# no constants, no \"per\", masked\n",
    "\n",
    "df_no_constant_no_per_masked = variable_miner.neg_to_nan_complete(df_no_constant_no_per)"
   ]
  },
  {
   "source": [
    "### dfs per countries"
   ],
   "cell_type": "markdown",
   "metadata": {}
  },
  {
   "cell_type": "code",
   "execution_count": 13,
   "metadata": {},
   "outputs": [],
   "source": [
    "### poland dfs:\n",
    "\n",
    "# df poland, masked\n",
    "\n",
    "df_poland_masked = variable_miner.by_country(df_required_countries_masked, 'Poland')\n",
    "\n",
    "#df poland, masked, no \"per\"\n",
    "\n",
    "df_poland_masked_no_per = variable_miner.drop_per_columns(df_poland_masked)"
   ]
  },
  {
   "cell_type": "code",
   "execution_count": 14,
   "metadata": {},
   "outputs": [],
   "source": [
    "### South Africa dfs:\n",
    "\n",
    "# df south africa, masked\n",
    "\n",
    "df_south_africa_masked = variable_miner.by_country(df_required_countries_masked, 'South Africa')\n",
    "\n",
    "#df South Africa, masked, no \"per\"\n",
    "\n",
    "df_south_africa_masked_no_per = variable_miner.drop_per_columns(df_south_africa_masked)"
   ]
  },
  {
   "cell_type": "code",
   "execution_count": 15,
   "metadata": {},
   "outputs": [],
   "source": [
    "### indonesia dfs:\n",
    "\n",
    "# df poland, masked\n",
    "\n",
    "df_indonesia_masked = variable_miner.by_country(df_required_countries_masked, 'Indonesia')\n",
    "\n",
    "#df indonesia, masked, no \"per\"\n",
    "\n",
    "df_indonesia_masked_no_per = variable_miner.drop_per_columns(df_indonesia_masked)"
   ]
  },
  {
   "cell_type": "code",
   "execution_count": 16,
   "metadata": {},
   "outputs": [],
   "source": [
    "### ukraine dfs:\n",
    "\n",
    "# df ukraine, masked\n",
    "\n",
    "df_ukraine_masked = variable_miner.by_country(df_required_countries_masked, 'Ukraine')\n",
    "\n",
    "#df ukraine, masked, no \"per\"\n",
    "\n",
    "df_ukraine_masked_no_per = variable_miner.drop_per_columns(df_ukraine_masked)"
   ]
  },
  {
   "cell_type": "code",
   "execution_count": 17,
   "metadata": {},
   "outputs": [],
   "source": [
    "### spain dfs:\n",
    "\n",
    "# df spain, masked\n",
    "\n",
    "df_spain_masked = variable_miner.by_country(df_required_countries_masked, 'Spain')\n",
    "\n",
    "#df spain, masked, no \"per\"\n",
    "\n",
    "df_spain_masked_no_per = variable_miner.drop_per_columns(df_spain_masked)"
   ]
  },
  {
   "cell_type": "code",
   "execution_count": null,
   "metadata": {},
   "outputs": [],
   "source": []
  }
 ]
}