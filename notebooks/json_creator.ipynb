{
 "metadata": {
  "language_info": {
   "codemirror_mode": {
    "name": "ipython",
    "version": 3
   },
   "file_extension": ".py",
   "mimetype": "text/x-python",
   "name": "python",
   "nbconvert_exporter": "python",
   "pygments_lexer": "ipython3",
   "version": "3.9.0-final"
  },
  "orig_nbformat": 2,
  "kernelspec": {
   "name": "python3",
   "display_name": "Python 3.9.0 64-bit",
   "metadata": {
    "interpreter": {
     "hash": "7812ea015bdcee6f23a998adcdd2ef97c151c0c241b7b7070987d9313e41299d"
    }
   }
  }
 },
 "nbformat": 4,
 "nbformat_minor": 2,
 "cells": [
  {
   "cell_type": "code",
   "execution_count": 1,
   "metadata": {},
   "outputs": [],
   "source": [
    "import pandas as pd\n",
    "import json"
   ]
  },
  {
   "cell_type": "code",
   "execution_count": 43,
   "metadata": {},
   "outputs": [],
   "source": [
    "def def_camino(file_name):\n",
    "    \"\"\"\n",
    "        @Alex\n",
    "        Path definition for data folder to operate the path\n",
    "            Input   : Name of the file to create the path\n",
    "    \"\"\"\n",
    "    fileDir = os.path.dirname(os.path.realpath('__file__'))\n",
    "    camino = os.path.join(fileDir, '../data/'+file_name)\n",
    "    camino = os.path.abspath(os.path.realpath(camino))\n",
    "    \n",
    "    return camino\n",
    "\n",
    "\n",
    "def json_saver (file_name,archivo):\n",
    "    \"\"\"\n",
    "        @Alex\n",
    "        File saver for json files\n",
    "            Inputs:\n",
    "                    file_name : name for the file\n",
    "                    archivo   : information to save in the file\n",
    "    \"\"\"\n",
    "    camino = def_camino(file_name)\n",
    "\n",
    "    with open(camino + \".json\",'w') as json_file:\n",
    "        json.dump(archivo,json_file)\n",
    "    \n",
    "    print(\"Succesfully saved:\\t\",file_name)"
   ]
  },
  {
   "cell_type": "code",
   "execution_count": 44,
   "metadata": {},
   "outputs": [
    {
     "output_type": "execute_result",
     "data": {
      "text/plain": [
       "     location iso_code continent        date  total_cases  new_cases  \\\n",
       "0      Poland      POL    Europe  2020-03-04          1.0        1.0   \n",
       "1      Poland      POL    Europe  2020-03-05          1.0        0.0   \n",
       "2      Poland      POL    Europe  2020-03-06          5.0        4.0   \n",
       "3      Poland      POL    Europe  2020-03-07          5.0        0.0   \n",
       "4      Poland      POL    Europe  2020-03-08         11.0        6.0   \n",
       "...       ...      ...       ...         ...          ...        ...   \n",
       "1661    Spain      ESP    Europe  2021-01-14    2211967.0    35878.0   \n",
       "1662    Spain      ESP    Europe  2021-01-15    2252164.0    40197.0   \n",
       "1663    Spain      ESP    Europe  2021-01-16    2252164.0        0.0   \n",
       "1664    Spain      ESP    Europe  2021-01-17    2252164.0        0.0   \n",
       "1665    Spain      ESP    Europe  2021-01-18    2336451.0    84287.0   \n",
       "\n",
       "      new_cases_smoothed  total_deaths  new_deaths  new_deaths_smoothed  ...  \\\n",
       "0                    NaN           NaN         NaN                  NaN  ...   \n",
       "1                    NaN           NaN         NaN                  NaN  ...   \n",
       "2                    NaN           NaN         NaN                  NaN  ...   \n",
       "3                    NaN           NaN         NaN                  NaN  ...   \n",
       "4                    NaN           NaN         NaN                  NaN  ...   \n",
       "...                  ...           ...         ...                  ...  ...   \n",
       "1661           26723.286       53079.0       201.0              200.571  ...   \n",
       "1662           28829.143       53314.0       235.0              205.714  ...   \n",
       "1663           28829.143       53314.0         0.0              205.714  ...   \n",
       "1664           28829.143       53314.0         0.0              205.714  ...   \n",
       "1665           32095.571       53769.0       455.0              213.429  ...   \n",
       "\n",
       "      gdp_per_capita  extreme_poverty  cardiovasc_death_rate  \\\n",
       "0          27216.445              NaN                227.331   \n",
       "1          27216.445              NaN                227.331   \n",
       "2          27216.445              NaN                227.331   \n",
       "3          27216.445              NaN                227.331   \n",
       "4          27216.445              NaN                227.331   \n",
       "...              ...              ...                    ...   \n",
       "1661       34272.360              1.0                 99.403   \n",
       "1662       34272.360              1.0                 99.403   \n",
       "1663       34272.360              1.0                 99.403   \n",
       "1664       34272.360              1.0                 99.403   \n",
       "1665       34272.360              1.0                 99.403   \n",
       "\n",
       "      diabetes_prevalence  female_smokers  male_smokers  \\\n",
       "0                    5.91            23.3          33.1   \n",
       "1                    5.91            23.3          33.1   \n",
       "2                    5.91            23.3          33.1   \n",
       "3                    5.91            23.3          33.1   \n",
       "4                    5.91            23.3          33.1   \n",
       "...                   ...             ...           ...   \n",
       "1661                 7.17            27.4          31.4   \n",
       "1662                 7.17            27.4          31.4   \n",
       "1663                 7.17            27.4          31.4   \n",
       "1664                 7.17            27.4          31.4   \n",
       "1665                 7.17            27.4          31.4   \n",
       "\n",
       "      handwashing_facilities  hospital_beds_per_thousand  life_expectancy  \\\n",
       "0                        NaN                        6.62            78.73   \n",
       "1                        NaN                        6.62            78.73   \n",
       "2                        NaN                        6.62            78.73   \n",
       "3                        NaN                        6.62            78.73   \n",
       "4                        NaN                        6.62            78.73   \n",
       "...                      ...                         ...              ...   \n",
       "1661                     NaN                        2.97            83.56   \n",
       "1662                     NaN                        2.97            83.56   \n",
       "1663                     NaN                        2.97            83.56   \n",
       "1664                     NaN                        2.97            83.56   \n",
       "1665                     NaN                        2.97            83.56   \n",
       "\n",
       "      human_development_index  \n",
       "0                       0.865  \n",
       "1                       0.865  \n",
       "2                       0.865  \n",
       "3                       0.865  \n",
       "4                       0.865  \n",
       "...                       ...  \n",
       "1661                    0.891  \n",
       "1662                    0.891  \n",
       "1663                    0.891  \n",
       "1664                    0.891  \n",
       "1665                    0.891  \n",
       "\n",
       "[1666 rows x 55 columns]"
      ],
      "text/html": "<div>\n<style scoped>\n    .dataframe tbody tr th:only-of-type {\n        vertical-align: middle;\n    }\n\n    .dataframe tbody tr th {\n        vertical-align: top;\n    }\n\n    .dataframe thead th {\n        text-align: right;\n    }\n</style>\n<table border=\"1\" class=\"dataframe\">\n  <thead>\n    <tr style=\"text-align: right;\">\n      <th></th>\n      <th>location</th>\n      <th>iso_code</th>\n      <th>continent</th>\n      <th>date</th>\n      <th>total_cases</th>\n      <th>new_cases</th>\n      <th>new_cases_smoothed</th>\n      <th>total_deaths</th>\n      <th>new_deaths</th>\n      <th>new_deaths_smoothed</th>\n      <th>...</th>\n      <th>gdp_per_capita</th>\n      <th>extreme_poverty</th>\n      <th>cardiovasc_death_rate</th>\n      <th>diabetes_prevalence</th>\n      <th>female_smokers</th>\n      <th>male_smokers</th>\n      <th>handwashing_facilities</th>\n      <th>hospital_beds_per_thousand</th>\n      <th>life_expectancy</th>\n      <th>human_development_index</th>\n    </tr>\n  </thead>\n  <tbody>\n    <tr>\n      <th>0</th>\n      <td>Poland</td>\n      <td>POL</td>\n      <td>Europe</td>\n      <td>2020-03-04</td>\n      <td>1.0</td>\n      <td>1.0</td>\n      <td>NaN</td>\n      <td>NaN</td>\n      <td>NaN</td>\n      <td>NaN</td>\n      <td>...</td>\n      <td>27216.445</td>\n      <td>NaN</td>\n      <td>227.331</td>\n      <td>5.91</td>\n      <td>23.3</td>\n      <td>33.1</td>\n      <td>NaN</td>\n      <td>6.62</td>\n      <td>78.73</td>\n      <td>0.865</td>\n    </tr>\n    <tr>\n      <th>1</th>\n      <td>Poland</td>\n      <td>POL</td>\n      <td>Europe</td>\n      <td>2020-03-05</td>\n      <td>1.0</td>\n      <td>0.0</td>\n      <td>NaN</td>\n      <td>NaN</td>\n      <td>NaN</td>\n      <td>NaN</td>\n      <td>...</td>\n      <td>27216.445</td>\n      <td>NaN</td>\n      <td>227.331</td>\n      <td>5.91</td>\n      <td>23.3</td>\n      <td>33.1</td>\n      <td>NaN</td>\n      <td>6.62</td>\n      <td>78.73</td>\n      <td>0.865</td>\n    </tr>\n    <tr>\n      <th>2</th>\n      <td>Poland</td>\n      <td>POL</td>\n      <td>Europe</td>\n      <td>2020-03-06</td>\n      <td>5.0</td>\n      <td>4.0</td>\n      <td>NaN</td>\n      <td>NaN</td>\n      <td>NaN</td>\n      <td>NaN</td>\n      <td>...</td>\n      <td>27216.445</td>\n      <td>NaN</td>\n      <td>227.331</td>\n      <td>5.91</td>\n      <td>23.3</td>\n      <td>33.1</td>\n      <td>NaN</td>\n      <td>6.62</td>\n      <td>78.73</td>\n      <td>0.865</td>\n    </tr>\n    <tr>\n      <th>3</th>\n      <td>Poland</td>\n      <td>POL</td>\n      <td>Europe</td>\n      <td>2020-03-07</td>\n      <td>5.0</td>\n      <td>0.0</td>\n      <td>NaN</td>\n      <td>NaN</td>\n      <td>NaN</td>\n      <td>NaN</td>\n      <td>...</td>\n      <td>27216.445</td>\n      <td>NaN</td>\n      <td>227.331</td>\n      <td>5.91</td>\n      <td>23.3</td>\n      <td>33.1</td>\n      <td>NaN</td>\n      <td>6.62</td>\n      <td>78.73</td>\n      <td>0.865</td>\n    </tr>\n    <tr>\n      <th>4</th>\n      <td>Poland</td>\n      <td>POL</td>\n      <td>Europe</td>\n      <td>2020-03-08</td>\n      <td>11.0</td>\n      <td>6.0</td>\n      <td>NaN</td>\n      <td>NaN</td>\n      <td>NaN</td>\n      <td>NaN</td>\n      <td>...</td>\n      <td>27216.445</td>\n      <td>NaN</td>\n      <td>227.331</td>\n      <td>5.91</td>\n      <td>23.3</td>\n      <td>33.1</td>\n      <td>NaN</td>\n      <td>6.62</td>\n      <td>78.73</td>\n      <td>0.865</td>\n    </tr>\n    <tr>\n      <th>...</th>\n      <td>...</td>\n      <td>...</td>\n      <td>...</td>\n      <td>...</td>\n      <td>...</td>\n      <td>...</td>\n      <td>...</td>\n      <td>...</td>\n      <td>...</td>\n      <td>...</td>\n      <td>...</td>\n      <td>...</td>\n      <td>...</td>\n      <td>...</td>\n      <td>...</td>\n      <td>...</td>\n      <td>...</td>\n      <td>...</td>\n      <td>...</td>\n      <td>...</td>\n      <td>...</td>\n    </tr>\n    <tr>\n      <th>1661</th>\n      <td>Spain</td>\n      <td>ESP</td>\n      <td>Europe</td>\n      <td>2021-01-14</td>\n      <td>2211967.0</td>\n      <td>35878.0</td>\n      <td>26723.286</td>\n      <td>53079.0</td>\n      <td>201.0</td>\n      <td>200.571</td>\n      <td>...</td>\n      <td>34272.360</td>\n      <td>1.0</td>\n      <td>99.403</td>\n      <td>7.17</td>\n      <td>27.4</td>\n      <td>31.4</td>\n      <td>NaN</td>\n      <td>2.97</td>\n      <td>83.56</td>\n      <td>0.891</td>\n    </tr>\n    <tr>\n      <th>1662</th>\n      <td>Spain</td>\n      <td>ESP</td>\n      <td>Europe</td>\n      <td>2021-01-15</td>\n      <td>2252164.0</td>\n      <td>40197.0</td>\n      <td>28829.143</td>\n      <td>53314.0</td>\n      <td>235.0</td>\n      <td>205.714</td>\n      <td>...</td>\n      <td>34272.360</td>\n      <td>1.0</td>\n      <td>99.403</td>\n      <td>7.17</td>\n      <td>27.4</td>\n      <td>31.4</td>\n      <td>NaN</td>\n      <td>2.97</td>\n      <td>83.56</td>\n      <td>0.891</td>\n    </tr>\n    <tr>\n      <th>1663</th>\n      <td>Spain</td>\n      <td>ESP</td>\n      <td>Europe</td>\n      <td>2021-01-16</td>\n      <td>2252164.0</td>\n      <td>0.0</td>\n      <td>28829.143</td>\n      <td>53314.0</td>\n      <td>0.0</td>\n      <td>205.714</td>\n      <td>...</td>\n      <td>34272.360</td>\n      <td>1.0</td>\n      <td>99.403</td>\n      <td>7.17</td>\n      <td>27.4</td>\n      <td>31.4</td>\n      <td>NaN</td>\n      <td>2.97</td>\n      <td>83.56</td>\n      <td>0.891</td>\n    </tr>\n    <tr>\n      <th>1664</th>\n      <td>Spain</td>\n      <td>ESP</td>\n      <td>Europe</td>\n      <td>2021-01-17</td>\n      <td>2252164.0</td>\n      <td>0.0</td>\n      <td>28829.143</td>\n      <td>53314.0</td>\n      <td>0.0</td>\n      <td>205.714</td>\n      <td>...</td>\n      <td>34272.360</td>\n      <td>1.0</td>\n      <td>99.403</td>\n      <td>7.17</td>\n      <td>27.4</td>\n      <td>31.4</td>\n      <td>NaN</td>\n      <td>2.97</td>\n      <td>83.56</td>\n      <td>0.891</td>\n    </tr>\n    <tr>\n      <th>1665</th>\n      <td>Spain</td>\n      <td>ESP</td>\n      <td>Europe</td>\n      <td>2021-01-18</td>\n      <td>2336451.0</td>\n      <td>84287.0</td>\n      <td>32095.571</td>\n      <td>53769.0</td>\n      <td>455.0</td>\n      <td>213.429</td>\n      <td>...</td>\n      <td>34272.360</td>\n      <td>1.0</td>\n      <td>99.403</td>\n      <td>7.17</td>\n      <td>27.4</td>\n      <td>31.4</td>\n      <td>NaN</td>\n      <td>2.97</td>\n      <td>83.56</td>\n      <td>0.891</td>\n    </tr>\n  </tbody>\n</table>\n<p>1666 rows × 55 columns</p>\n</div>"
     },
     "metadata": {},
     "execution_count": 44
    }
   ],
   "source": [
    "path = def_camino(\"df_required_countries.csv\")\n",
    "df_required_countries = pd.read_csv(path)\n",
    "df_required_countries"
   ]
  },
  {
   "cell_type": "code",
   "execution_count": 4,
   "metadata": {},
   "outputs": [
    {
     "output_type": "execute_result",
     "data": {
      "text/plain": [
       "Index(['location', 'iso_code', 'continent', 'date', 'total_cases', 'new_cases',\n",
       "       'new_cases_smoothed', 'total_deaths', 'new_deaths',\n",
       "       'new_deaths_smoothed', 'total_cases_per_million',\n",
       "       'new_cases_per_million', 'new_cases_smoothed_per_million',\n",
       "       'total_deaths_per_million', 'new_deaths_per_million',\n",
       "       'new_deaths_smoothed_per_million', 'reproduction_rate', 'icu_patients',\n",
       "       'icu_patients_per_million', 'hosp_patients',\n",
       "       'hosp_patients_per_million', 'weekly_icu_admissions',\n",
       "       'weekly_icu_admissions_per_million', 'weekly_hosp_admissions',\n",
       "       'weekly_hosp_admissions_per_million', 'total_tests', 'new_tests',\n",
       "       'total_tests_per_thousand', 'new_tests_per_thousand',\n",
       "       'new_tests_smoothed', 'new_tests_smoothed_per_thousand',\n",
       "       'positive_rate', 'tests_per_case', 'tests_units', 'total_vaccinations',\n",
       "       'new_vaccinations', 'new_vaccinations_smoothed',\n",
       "       'total_vaccinations_per_hundred',\n",
       "       'new_vaccinations_smoothed_per_million', 'stringency_index',\n",
       "       'population', 'population_density', 'median_age', 'aged_65_older',\n",
       "       'aged_70_older', 'gdp_per_capita', 'extreme_poverty',\n",
       "       'cardiovasc_death_rate', 'diabetes_prevalence', 'female_smokers',\n",
       "       'male_smokers', 'handwashing_facilities', 'hospital_beds_per_thousand',\n",
       "       'life_expectancy', 'human_development_index'],\n",
       "      dtype='object')"
      ]
     },
     "metadata": {},
     "execution_count": 4
    }
   ],
   "source": [
    "df_required_countries.keys()"
   ]
  },
  {
   "cell_type": "code",
   "execution_count": 45,
   "metadata": {},
   "outputs": [
    {
     "output_type": "stream",
     "name": "stdout",
     "text": [
      "Succesfully saved:\t json_own\n"
     ]
    }
   ],
   "source": [
    "df_required_countries = df_required_countries.dropna(subset = [\"new_vaccinations\"])\n",
    "n_v_averages = df_required_countries.groupby(\"date\").agg({\"new_vaccinations\":\"mean\"})\n",
    "n_v_averages = n_v_averages.reset_index()\n",
    "n_v_averages = n_v_averages.values.tolist()\n",
    "json_own = {\"n_v_averages\":n_v_averages}\n",
    "json_saver(\"json_own\",json_own)"
   ]
  },
  {
   "cell_type": "code",
   "execution_count": null,
   "metadata": {},
   "outputs": [],
   "source": []
  }
 ]
}