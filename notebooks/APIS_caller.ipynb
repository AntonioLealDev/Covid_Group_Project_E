{
 "metadata": {
  "language_info": {
   "codemirror_mode": {
    "name": "ipython",
    "version": 3
   },
   "file_extension": ".py",
   "mimetype": "text/x-python",
   "name": "python",
   "nbconvert_exporter": "python",
   "pygments_lexer": "ipython3",
   "version": "3.9.0-final"
  },
  "orig_nbformat": 2,
  "kernelspec": {
   "name": "python3",
   "display_name": "Python 3.9.0 64-bit",
   "metadata": {
    "interpreter": {
     "hash": "7812ea015bdcee6f23a998adcdd2ef97c151c0c241b7b7070987d9313e41299d"
    }
   }
  }
 },
 "nbformat": 4,
 "nbformat_minor": 2,
 "cells": [
  {
   "cell_type": "code",
   "execution_count": 2,
   "metadata": {},
   "outputs": [],
   "source": [
    "import json\n",
    "import requests"
   ]
  },
  {
   "cell_type": "code",
   "execution_count": 5,
   "metadata": {},
   "outputs": [],
   "source": [
    "def requester (b_url, added_url, psw ):\n",
    "    \"\"\"\n",
    "    Function that helps us to make the call to the server to recieve the appropiate data:\n",
    "    Inputs:\n",
    "        b_url       : Basic url to do the request\n",
    "        added_url   : Addition to the bassic url to perform the addecuate request\n",
    "        psw         : String withe the required password to get the data\n",
    "\n",
    "    Output:\n",
    "        resp        : Json file with the information requested\n",
    "    \n",
    "    \"\"\"\n",
    "    resp = requests.get(url=url_b+added_url+psw)\n",
    "    return resp.json()\n"
   ]
  },
  {
   "cell_type": "code",
   "execution_count": 8,
   "metadata": {},
   "outputs": [
    {
     "output_type": "execute_result",
     "data": {
      "text/plain": [
       "{'n_v_averages': [['2020-12-29', 4300.0],\n",
       "  ['2020-12-30', 30000.0],\n",
       "  ['2020-12-31', 11300.0],\n",
       "  ['2021-01-03', 442.0],\n",
       "  ['2021-01-04', 41387.0],\n",
       "  ['2021-01-05', 52255.5],\n",
       "  ['2021-01-06', 20133.0],\n",
       "  ['2021-01-07', 28597.0],\n",
       "  ['2021-01-08', 40242.0],\n",
       "  ['2021-01-09', 1235.0],\n",
       "  ['2021-01-10', 3031.0],\n",
       "  ['2021-01-11', 54781.0],\n",
       "  ['2021-01-12', 66908.5],\n",
       "  ['2021-01-13', 76554.0],\n",
       "  ['2021-01-14', 67908.0],\n",
       "  ['2021-01-15', 59623.5],\n",
       "  ['2021-01-16', 20340.0],\n",
       "  ['2021-01-17', 12163.0],\n",
       "  ['2021-01-18', 25698.0]]}"
      ]
     },
     "metadata": {},
     "execution_count": 8
    }
   ],
   "source": [
    "passwords = {\"group_id\":\"E80\"}\n",
    "\n",
    "# url_b = \"http://81.40.88.247:5001/\" # Javi Olcoz\n",
    "\n",
    "url_b = \"http://192.168.0.21:5000/\" # Alex B\n",
    "url_group = \"group_id?password=\"\n",
    "url_token = \"token_id?password=\"\n",
    "\n",
    "token = requester (url_b, url_group, passwords[\"group_id\"])\n",
    "d_json = requester (url_b, url_token, token[\"token\"])\n",
    "d_json"
   ]
  },
  {
   "cell_type": "code",
   "execution_count": null,
   "metadata": {},
   "outputs": [],
   "source": []
  }
 ]
}