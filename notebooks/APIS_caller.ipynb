{
 "metadata": {
  "language_info": {
   "codemirror_mode": {
    "name": "ipython",
    "version": 3
   },
   "file_extension": ".py",
   "mimetype": "text/x-python",
   "name": "python",
   "nbconvert_exporter": "python",
   "pygments_lexer": "ipython3",
   "version": "3.9.0-final"
  },
  "orig_nbformat": 2,
  "kernelspec": {
   "name": "python3",
   "display_name": "Python 3.9.0 64-bit",
   "metadata": {
    "interpreter": {
     "hash": "7812ea015bdcee6f23a998adcdd2ef97c151c0c241b7b7070987d9313e41299d"
    }
   }
  }
 },
 "nbformat": 4,
 "nbformat_minor": 2,
 "cells": [
  {
   "cell_type": "code",
   "execution_count": 1,
   "metadata": {},
   "outputs": [],
   "source": [
    "import json\n",
    "import requests"
   ]
  },
  {
   "cell_type": "code",
   "execution_count": 20,
   "metadata": {},
   "outputs": [],
   "source": [
    "def requester (b_url, added_url, psw ):\n",
    "    \"\"\"\n",
    "    Function that helps us to make the call to the server to recieve the appropiate data:\n",
    "    Inputs:\n",
    "        b_url       : Basic url to do the request\n",
    "        added_url   : Addition to the bassic url to perform the addecuate request\n",
    "        psw         : String withe the required password to get the data\n",
    "\n",
    "    Output:\n",
    "        resp        : Json file with the information requested\n",
    "    \n",
    "    \"\"\"\n",
    "    resp = requests.get(url=url_b+added_url+psw)\n",
    "    return resp.json()\n"
   ]
  },
  {
   "cell_type": "code",
   "execution_count": 33,
   "metadata": {},
   "outputs": [
    {
     "output_type": "execute_result",
     "data": {
      "text/plain": [
       "{'t_d_averages': [1, 2, 3, 4, 5, 6, 7, 8, 9, 10]}"
      ]
     },
     "metadata": {},
     "execution_count": 33
    }
   ],
   "source": [
    "passwords = {\"group_id\":\"E80\"}\n",
    "\n",
    "url_b = \"http://192.168.0.21:6060/\"\n",
    "url_group = \"group_id?password=\"\n",
    "url_token = \"token_id?password=\"\n",
    "\n",
    "token = requester (url_b, url_group, passwords[\"group_id\"])\n",
    "d_json = requester (url_b, url_token, token[\"token\"])\n",
    "d_json"
   ]
  },
  {
   "cell_type": "code",
   "execution_count": null,
   "metadata": {},
   "outputs": [],
   "source": []
  }
 ]
}